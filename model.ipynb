{
  "cells": [
    {
      "cell_type": "markdown",
      "metadata": {
        "id": "oxV0GUsK-1J-"
      },
      "source": [
        "#Import Library"
      ]
    },
    {
      "cell_type": "code",
      "execution_count": 1,
      "metadata": {
        "id": "XJbmPD1Tx2eD"
      },
      "outputs": [],
      "source": [
        "import pathlib\n",
        "import tensorflow as tf\n",
        "import matplotlib.pyplot as plt\n",
        "import numpy as np\n",
        "import pandas as pd\n",
        "import os\n",
        "import random\n",
        "from glob import glob\n",
        "import matplotlib.image as img\n",
        "import zipfile\n",
        "from tensorflow.keras.callbacks import EarlyStopping"
      ]
    },
    {
      "cell_type": "markdown",
      "metadata": {
        "id": "W1_S0-Uz-4w3"
      },
      "source": [
        "#Dataset"
      ]
    },
    {
      "cell_type": "code",
      "source": [
        "!pip install -q kaggle\n",
        "!mkdir ~/.kaggle\n",
        "!cp kaggle.json ~/.kaggle\n",
        "!chmod 600 ~/.kaggle/kaggle.json"
      ],
      "metadata": {
        "id": "I8zmGLuNPDhd"
      },
      "execution_count": 3,
      "outputs": []
    },
    {
      "cell_type": "code",
      "execution_count": 4,
      "metadata": {
        "colab": {
          "base_uri": "https://localhost:8080/"
        },
        "id": "A-51DXUzyZgL",
        "outputId": "a588d446-4eb6-4ec7-f89f-ead60620d905"
      },
      "outputs": [
        {
          "output_type": "stream",
          "name": "stdout",
          "text": [
            "2.14.0\n"
          ]
        }
      ],
      "source": [
        "import tensorflow as tf\n",
        "print(tf.__version__)"
      ]
    },
    {
      "cell_type": "code",
      "source": [
        "!rm -rf data"
      ],
      "metadata": {
        "id": "NHDd_AxPQYsW"
      },
      "execution_count": 5,
      "outputs": []
    },
    {
      "cell_type": "code",
      "source": [
        "! kaggle datasets list"
      ],
      "metadata": {
        "colab": {
          "base_uri": "https://localhost:8080/"
        },
        "id": "UK_jjZWqQaK5",
        "outputId": "f388d204-0560-4625-9240-e97da3d1cdc4"
      },
      "execution_count": 6,
      "outputs": [
        {
          "output_type": "stream",
          "name": "stdout",
          "text": [
            "ref                                                            title                                            size  lastUpdated          downloadCount  voteCount  usabilityRating  \n",
            "-------------------------------------------------------------  ----------------------------------------------  -----  -------------------  -------------  ---------  ---------------  \n",
            "carlmcbrideellis/llm-7-prompt-training-dataset                 LLM: 7 prompt training dataset                   41MB  2023-11-15 07:32:56            739         72  1.0              \n",
            "iamsouravbanerjee/customer-shopping-trends-dataset             Customer Shopping Trends Dataset                146KB  2023-10-05 06:45:37          29092        563  1.0              \n",
            "thedrcat/daigt-proper-train-dataset                            DAIGT Proper Train Dataset                      119MB  2023-11-05 14:03:25            884        105  1.0              \n",
            "joebeachcapital/30000-spotify-songs                            30000 Spotify Songs                               3MB  2023-11-01 06:06:43           4890        130  1.0              \n",
            "dillonmyrick/high-school-student-performance-and-demographics  High School Student Performance & Demographics   24KB  2023-11-10 01:33:35           1731         33  1.0              \n",
            "thedrcat/daigt-v2-train-dataset                                DAIGT V2 Train Dataset                           29MB  2023-11-16 01:38:36            296         46  1.0              \n",
            "prasad22/healthcare-dataset                                    🩺Healthcare Dataset 🧪                           483KB  2023-10-31 11:30:58           3970         71  1.0              \n",
            "nelgiriyewithana/world-educational-data                        World Educational Data                            9KB  2023-11-04 06:10:17           3851         82  1.0              \n",
            "alejopaullier/daigt-external-dataset                           DAIGT | External Dataset                          3MB  2023-10-31 19:11:35            729        106  0.7647059        \n",
            "samyakb/student-stress-factors                                 Student stress factors                           887B  2023-11-02 12:42:11           4940         87  0.9411765        \n",
            "asaniczka/ufc-fighters-statistics                              UFC Fighters' Statistics Dataset                148KB  2023-11-17 03:19:42            534         29  1.0              \n",
            "ultimus/football-wages-prediction                              Football Wages Dataset                           36KB  2023-10-22 15:20:01           1645         32  1.0              \n",
            "jacksondivakarr/online-shopping-dataset                        🛒 Online Shopping Dataset 📊📉📈                     5MB  2023-11-12 12:35:58           1652         43  1.0              \n",
            "datasciencedonut/california-state-jobs                         California State Jobs                           339KB  2023-11-17 14:50:14            500         22  1.0              \n",
            "anshtanwar/top-200-trending-books-with-reviews                 Top 100 Bestselling Book Reviews on Amazon      422KB  2023-11-09 06:31:02           5173         48  1.0              \n",
            "kzmontage/sales-from-different-stores                          Different Store Sales                             2MB  2023-11-11 18:24:54           1481         27  0.9411765        \n",
            "stefancomanita/top-us-songs-from-1950-to-2019-w-lyrics         Top US Songs from 1950 to 2019, w. lyrics       674KB  2023-11-08 22:00:45            499         24  1.0              \n",
            "nelgiriyewithana/billionaires-statistics-dataset               Billionaires Statistics Dataset (2023)          139KB  2023-09-29 13:39:28          15293        346  1.0              \n",
            "amirmahdiabbootalebi/salary-by-job-title-and-country           Salary by Job Title and Country                  37KB  2023-11-02 06:37:13           2480         52  1.0              \n",
            "zeesolver/consumer-behavior-and-shopping-habits-dataset        Consumer Behavior and Shopping Habits Dataset:  146KB  2023-10-19 13:36:26           6167         83  1.0              \n"
          ]
        }
      ]
    },
    {
      "cell_type": "code",
      "source": [
        "!kaggle datasets download -d robinreni/signature-verification-dataset"
      ],
      "metadata": {
        "colab": {
          "base_uri": "https://localhost:8080/"
        },
        "id": "2F_96LvxQe_Q",
        "outputId": "92448b69-234d-4057-b9fa-e75a8ad0bdb7"
      },
      "execution_count": 7,
      "outputs": [
        {
          "output_type": "stream",
          "name": "stdout",
          "text": [
            "Downloading signature-verification-dataset.zip to /content\n",
            " 99% 593M/601M [00:08<00:00, 73.7MB/s]\n",
            "100% 601M/601M [00:08<00:00, 73.6MB/s]\n"
          ]
        }
      ]
    },
    {
      "cell_type": "markdown",
      "source": [
        "#Extract Zip File"
      ],
      "metadata": {
        "id": "xU41qBPSf-78"
      }
    },
    {
      "cell_type": "code",
      "source": [
        "local_zip = 'signature-verification-dataset.zip'\n",
        "target_extraction = '/content/data/'\n",
        "file_check = \"dataset\"\n",
        "\n",
        "try:\n",
        "    if os.path.exists(os.path.join(target_extraction, file_check)):\n",
        "        print(\"File Already Extracted\")\n",
        "    else:\n",
        "        zip_ref = zipfile.ZipFile(local_zip, 'r')\n",
        "        zip_ref.extractall(target_extraction)\n",
        "\n",
        "except FileNotFoundError:\n",
        "    print('Zip File Not Found!')"
      ],
      "metadata": {
        "id": "h7-ScRWhQ7Ri"
      },
      "execution_count": 8,
      "outputs": []
    },
    {
      "cell_type": "markdown",
      "source": [
        "# Split Dataset"
      ],
      "metadata": {
        "id": "0My3Q0o0gLq6"
      }
    },
    {
      "cell_type": "code",
      "source": [
        "!mkdir Train\n",
        "!mkdir Test\n",
        "\n",
        "!mkdir Train/Fake\n",
        "!mkdir Train/Real\n",
        "\n",
        "!mkdir Test/Fake\n",
        "!mkdir Test/Real"
      ],
      "metadata": {
        "id": "vSAyVJI5UnSw"
      },
      "execution_count": 9,
      "outputs": []
    },
    {
      "cell_type": "code",
      "source": [
        "PATH = \"/content/data/sign_data/train/\"\n",
        "\n",
        "for i in os.listdir(PATH):\n",
        "\n",
        "    contol = i.split(\"_\")\n",
        "\n",
        "    try:\n",
        "\n",
        "        if contol[1]==\"forg\":\n",
        "\n",
        "            os.system(\"cp -r {} Train/Fake\".format(PATH+i))\n",
        "\n",
        "    except:\n",
        "\n",
        "        os.system(\"cp -r {} Train/Real\".format(PATH+i))"
      ],
      "metadata": {
        "id": "0pbyUBx5UOu0"
      },
      "execution_count": 10,
      "outputs": []
    },
    {
      "cell_type": "code",
      "source": [
        "PATH = \"/content/data/sign_data/test/\"\n",
        "\n",
        "for i in os.listdir(PATH):\n",
        "\n",
        "    contol = i.split(\"_\")\n",
        "\n",
        "    try:\n",
        "\n",
        "        if contol[1]==\"forg\":\n",
        "\n",
        "            os.system(\"cp -r {} Test/Fake\".format(PATH+i))\n",
        "\n",
        "    except:\n",
        "\n",
        "        os.system(\"cp -r {} Test/Real\".format(PATH+i))"
      ],
      "metadata": {
        "id": "8-G156ibUxCz"
      },
      "execution_count": 11,
      "outputs": []
    },
    {
      "cell_type": "code",
      "source": [
        "train_dir = os.path.join(\"/content/Train\")\n",
        "test_dir = os.path.join(\"/content/Test\")"
      ],
      "metadata": {
        "id": "DCTbDWbdSrQA"
      },
      "execution_count": 14,
      "outputs": []
    },
    {
      "cell_type": "code",
      "source": [
        "from keras.preprocessing.image import ImageDataGenerator\n",
        "train_datagen = ImageDataGenerator(\n",
        "      rescale=1./255,\n",
        "      rotation_range=40,\n",
        "      width_shift_range=0.2,\n",
        "      height_shift_range=0.2,\n",
        "      shear_range=0.2,\n",
        "      zoom_range=0.2,\n",
        "      horizontal_flip=True,\n",
        "      fill_mode='nearest')\n",
        "\n",
        "test_datagen = ImageDataGenerator(rescale=1./255)"
      ],
      "metadata": {
        "id": "Zk0OgwxtTS0K"
      },
      "execution_count": 15,
      "outputs": []
    },
    {
      "cell_type": "code",
      "source": [
        "train_generator = train_datagen.flow_from_directory(\n",
        "        train_dir,\n",
        "        target_size=(200, 200),\n",
        "        batch_size=64,\n",
        "        class_mode='binary')"
      ],
      "metadata": {
        "colab": {
          "base_uri": "https://localhost:8080/"
        },
        "id": "rehZK1w_Tfg9",
        "outputId": "35b7fdf2-1712-4d55-aacf-de7f90f60eab"
      },
      "execution_count": 16,
      "outputs": [
        {
          "output_type": "stream",
          "name": "stdout",
          "text": [
            "Found 1649 images belonging to 2 classes.\n"
          ]
        }
      ]
    },
    {
      "cell_type": "code",
      "source": [
        "test_generator = test_datagen.flow_from_directory(\n",
        "        test_dir,\n",
        "        target_size=(200, 200),\n",
        "        batch_size=64,\n",
        "        class_mode='binary')"
      ],
      "metadata": {
        "colab": {
          "base_uri": "https://localhost:8080/"
        },
        "id": "6klci8KzVoir",
        "outputId": "7bf28aff-d195-4e5c-965d-8f0b57c15e6c"
      },
      "execution_count": 24,
      "outputs": [
        {
          "output_type": "stream",
          "name": "stdout",
          "text": [
            "Found 500 images belonging to 2 classes.\n"
          ]
        }
      ]
    },
    {
      "cell_type": "markdown",
      "metadata": {
        "id": "RzRGGuSpAMQG"
      },
      "source": [
        "# Parameter"
      ]
    },
    {
      "cell_type": "code",
      "execution_count": 25,
      "metadata": {
        "id": "xa18CD6121G_"
      },
      "outputs": [],
      "source": [
        "IMG_SIZE = (200,200)\n",
        "IMG_SHAPE = IMG_SIZE + (3,)"
      ]
    },
    {
      "cell_type": "markdown",
      "metadata": {
        "id": "10SOVMh8ARZf"
      },
      "source": [
        "# Architecture"
      ]
    },
    {
      "cell_type": "code",
      "execution_count": 27,
      "metadata": {
        "colab": {
          "base_uri": "https://localhost:8080/"
        },
        "id": "yxipguH73YmT",
        "outputId": "ac840f8e-2c6b-41af-b210-636402f873c6"
      },
      "outputs": [
        {
          "output_type": "stream",
          "name": "stdout",
          "text": [
            "Model: \"sequential_1\"\n",
            "_________________________________________________________________\n",
            " Layer (type)                Output Shape              Param #   \n",
            "=================================================================\n",
            " conv2d_3 (Conv2D)           (None, 198, 198, 16)      448       \n",
            "                                                                 \n",
            " conv2d_4 (Conv2D)           (None, 196, 196, 32)      4640      \n",
            "                                                                 \n",
            " conv2d_5 (Conv2D)           (None, 194, 194, 16)      4624      \n",
            "                                                                 \n",
            " flatten_1 (Flatten)         (None, 602176)            0         \n",
            "                                                                 \n",
            " dense_2 (Dense)             (None, 128)               77078656  \n",
            "                                                                 \n",
            " dense_3 (Dense)             (None, 1)                 129       \n",
            "                                                                 \n",
            "=================================================================\n",
            "Total params: 77088497 (294.07 MB)\n",
            "Trainable params: 77088497 (294.07 MB)\n",
            "Non-trainable params: 0 (0.00 Byte)\n",
            "_________________________________________________________________\n"
          ]
        }
      ],
      "source": [
        "from tensorflow.keras import regularizers\n",
        "from tensorflow.keras.layers import Dense, Dropout\n",
        "from tensorflow.keras.models import Model\n",
        "from tensorflow.keras.optimizers import Adam, Adamax\n",
        "from tensorflow.keras.models import Sequential\n",
        "from tensorflow.keras.layers import Dense, Flatten\n",
        "\n",
        "model = Sequential()\n",
        "model.add(tf.keras.layers.Conv2D(16, (3,3), activation='relu', input_shape=(IMG_SHAPE))),\n",
        "model.add(tf.keras.layers.Conv2D(32, (3,3), activation='relu')),\n",
        "model.add(tf.keras.layers.Conv2D(16, (3,3), activation='relu')),\n",
        "\n",
        "model.add(Flatten())\n",
        "model.add(Dense(128, activation='relu'))\n",
        "model.add(Dense(1, activation='sigmoid'))\n",
        "\n",
        "model.compile(optimizer='adam', loss='binary_crossentropy', metrics=['accuracy'])\n",
        "\n",
        "model.summary()\n"
      ]
    },
    {
      "cell_type": "code",
      "execution_count": 28,
      "metadata": {
        "id": "YCQjtqse3aNj"
      },
      "outputs": [],
      "source": [
        "learning_rate = 0.001\n",
        "\n",
        "model.compile(loss='binary_crossentropy',\n",
        "                  optimizer=tf.keras.optimizers.Adamax(learning_rate=learning_rate),\n",
        "                  metrics=['accuracy'])"
      ]
    },
    {
      "cell_type": "markdown",
      "source": [
        "# Set Callback"
      ],
      "metadata": {
        "id": "q9ED74MjhtV8"
      }
    },
    {
      "cell_type": "code",
      "execution_count": 30,
      "metadata": {
        "id": "Z9GgtC2Z3kfv"
      },
      "outputs": [],
      "source": [
        "class myCallback(tf.keras.callbacks.Callback):\n",
        "        def on_epoch_end(self, epoch, logs={}):\n",
        "            if logs.get('accuracy') is not None and logs.get('accuracy') >= 0.92:\n",
        "                print(\"\\nReached 92% validation accuracy so cancelling training!\")\n",
        "                self.model.stop_training = True\n",
        "\n",
        "callbacks = myCallback()"
      ]
    },
    {
      "cell_type": "markdown",
      "source": [
        "# Training Model"
      ],
      "metadata": {
        "id": "2EQRPGbYi8ME"
      }
    },
    {
      "cell_type": "code",
      "execution_count": 33,
      "metadata": {
        "colab": {
          "base_uri": "https://localhost:8080/"
        },
        "id": "CAmg2YC83moQ",
        "outputId": "430c8e59-8227-41e0-d31c-0a3d690374d7"
      },
      "outputs": [
        {
          "output_type": "stream",
          "name": "stdout",
          "text": [
            "Epoch 1/30\n",
            "25/25 - 25s - loss: 0.3389 - accuracy: 0.8700 - 25s/epoch - 1s/step\n",
            "Epoch 2/30\n",
            "25/25 - 22s - loss: 0.3223 - accuracy: 0.8732 - 22s/epoch - 898ms/step\n",
            "Epoch 3/30\n",
            "25/25 - 20s - loss: 0.3145 - accuracy: 0.8808 - 20s/epoch - 817ms/step\n",
            "Epoch 4/30\n",
            "25/25 - 23s - loss: 0.3263 - accuracy: 0.8782 - 23s/epoch - 903ms/step\n",
            "Epoch 5/30\n",
            "25/25 - 21s - loss: 0.3298 - accuracy: 0.8782 - 21s/epoch - 823ms/step\n",
            "Epoch 6/30\n",
            "25/25 - 22s - loss: 0.3228 - accuracy: 0.8700 - 22s/epoch - 885ms/step\n",
            "Epoch 7/30\n",
            "25/25 - 22s - loss: 0.3188 - accuracy: 0.8776 - 22s/epoch - 876ms/step\n",
            "Epoch 8/30\n",
            "25/25 - 21s - loss: 0.3195 - accuracy: 0.8801 - 21s/epoch - 840ms/step\n",
            "Epoch 9/30\n",
            "25/25 - 22s - loss: 0.2997 - accuracy: 0.8852 - 22s/epoch - 882ms/step\n",
            "Epoch 10/30\n",
            "25/25 - 21s - loss: 0.3032 - accuracy: 0.8858 - 21s/epoch - 853ms/step\n",
            "Epoch 11/30\n",
            "25/25 - 22s - loss: 0.3103 - accuracy: 0.8909 - 22s/epoch - 877ms/step\n",
            "Epoch 12/30\n",
            "25/25 - 21s - loss: 0.3030 - accuracy: 0.8890 - 21s/epoch - 823ms/step\n",
            "Epoch 13/30\n",
            "25/25 - 22s - loss: 0.3110 - accuracy: 0.8890 - 22s/epoch - 892ms/step\n",
            "Epoch 14/30\n",
            "25/25 - 21s - loss: 0.3035 - accuracy: 0.8814 - 21s/epoch - 826ms/step\n",
            "Epoch 15/30\n",
            "25/25 - 22s - loss: 0.2876 - accuracy: 0.8909 - 22s/epoch - 898ms/step\n",
            "Epoch 16/30\n",
            "25/25 - 22s - loss: 0.2866 - accuracy: 0.8921 - 22s/epoch - 897ms/step\n",
            "Epoch 17/30\n",
            "25/25 - 23s - loss: 0.3072 - accuracy: 0.8839 - 23s/epoch - 902ms/step\n",
            "Epoch 18/30\n",
            "25/25 - 22s - loss: 0.2849 - accuracy: 0.8965 - 22s/epoch - 887ms/step\n",
            "Epoch 19/30\n",
            "25/25 - 22s - loss: 0.2749 - accuracy: 0.8965 - 22s/epoch - 865ms/step\n",
            "Epoch 20/30\n",
            "25/25 - 21s - loss: 0.2844 - accuracy: 0.8890 - 21s/epoch - 836ms/step\n",
            "Epoch 21/30\n",
            "25/25 - 23s - loss: 0.2884 - accuracy: 0.8902 - 23s/epoch - 919ms/step\n",
            "Epoch 22/30\n",
            "25/25 - 23s - loss: 0.2894 - accuracy: 0.8934 - 23s/epoch - 908ms/step\n",
            "Epoch 23/30\n",
            "25/25 - 21s - loss: 0.2762 - accuracy: 0.8959 - 21s/epoch - 830ms/step\n",
            "Epoch 24/30\n",
            "25/25 - 23s - loss: 0.2777 - accuracy: 0.8946 - 23s/epoch - 909ms/step\n",
            "Epoch 25/30\n",
            "25/25 - 21s - loss: 0.2632 - accuracy: 0.8997 - 21s/epoch - 829ms/step\n",
            "Epoch 26/30\n",
            "25/25 - 21s - loss: 0.2822 - accuracy: 0.8934 - 21s/epoch - 843ms/step\n",
            "Epoch 27/30\n",
            "25/25 - 22s - loss: 0.2601 - accuracy: 0.9028 - 22s/epoch - 878ms/step\n",
            "Epoch 28/30\n",
            "25/25 - 21s - loss: 0.2555 - accuracy: 0.9028 - 21s/epoch - 856ms/step\n",
            "Epoch 29/30\n",
            "25/25 - 22s - loss: 0.2648 - accuracy: 0.8934 - 22s/epoch - 870ms/step\n",
            "Epoch 30/30\n",
            "25/25 - 21s - loss: 0.2795 - accuracy: 0.8978 - 21s/epoch - 849ms/step\n"
          ]
        }
      ],
      "source": [
        "history = model.fit(\n",
        "    train_generator,\n",
        "    steps_per_epoch=train_generator.samples//train_generator.batch_size,\n",
        "    epochs=30,\n",
        "    verbose=2, callbacks=[callbacks])"
      ]
    },
    {
      "cell_type": "markdown",
      "source": [
        "# Model Evaluate"
      ],
      "metadata": {
        "id": "jXK8vl-8i4GN"
      }
    },
    {
      "cell_type": "code",
      "execution_count": 34,
      "metadata": {
        "colab": {
          "base_uri": "https://localhost:8080/"
        },
        "id": "iRygvle_-lOV",
        "outputId": "e9b600ff-731d-4983-a21e-24637890caf3"
      },
      "outputs": [
        {
          "output_type": "stream",
          "name": "stdout",
          "text": [
            "8/8 [==============================] - 3s 343ms/step - loss: 0.2252 - accuracy: 0.9380\n"
          ]
        },
        {
          "output_type": "execute_result",
          "data": {
            "text/plain": [
              "[0.22519539296627045, 0.9380000233650208]"
            ]
          },
          "metadata": {},
          "execution_count": 34
        }
      ],
      "source": [
        "model.evaluate(test_generator)"
      ]
    },
    {
      "cell_type": "code",
      "source": [
        "acc = history.history['accuracy']\n",
        "loss = history.history['loss']\n",
        "\n",
        "plt.figure(figsize=(8, 11))\n",
        "plt.subplot(2, 1, 1)\n",
        "plt.plot(acc, label='Training Accuracy')\n",
        "plt.ylabel('accuracy')\n",
        "plt.xlabel('epochs')\n",
        "plt.legend(loc='upper left')\n",
        "plt.title('Training Accuracy')\n",
        "\n",
        "plt.subplot(2, 1, 2)\n",
        "plt.plot(loss, label='Training Loss')\n",
        "plt.ylabel('loss')\n",
        "plt.xlabel('epochs')\n",
        "plt.legend(loc='upper left')\n",
        "plt.title('Training Loss')"
      ],
      "metadata": {
        "colab": {
          "base_uri": "https://localhost:8080/",
          "height": 966
        },
        "id": "qciVz5CymY47",
        "outputId": "0c076991-f63e-49b2-a1ea-570f1bfbcb4c"
      },
      "execution_count": 38,
      "outputs": [
        {
          "output_type": "execute_result",
          "data": {
            "text/plain": [
              "Text(0.5, 1.0, 'Training Loss')"
            ]
          },
          "metadata": {},
          "execution_count": 38
        },
        {
          "output_type": "display_data",
          "data": {
            "text/plain": [
              "<Figure size 800x1100 with 2 Axes>"
            ],
            "image/png": "[encoded data removed]"
          },
          "metadata": {}
        }
      ]
    }
  ],
  "metadata": {
    "accelerator": "GPU",
    "colab": {
      "provenance": [],
      "gpuType": "T4"
    },
    "kernelspec": {
      "display_name": "Python 3",
      "name": "python3"
    },
    "language_info": {
      "name": "python"
    }
  },
  "nbformat": 4,
  "nbformat_minor": 0
}